{
 "cells": [
  {
   "cell_type": "markdown",
   "metadata": {},
   "source": [
    "# №1"
   ]
  },
  {
   "cell_type": "code",
   "execution_count": 117,
   "metadata": {},
   "outputs": [
    {
     "data": {
      "text/plain": [
       "array([1.1020202 , 0.99090909, 1.01111111])"
      ]
     },
     "execution_count": 117,
     "metadata": {},
     "output_type": "execute_result"
    }
   ],
   "source": [
    "import numpy as np\n",
    "\n",
    "A = np.array([[10, 1, -1], [1, 10, -1], [-1, 1, 10]])\n",
    "b = np.array([11, 10, 10])\n",
    "np.linalg.solve(A, b) # ответ через встроенную функцию"
   ]
  },
  {
   "cell_type": "code",
   "execution_count": 118,
   "metadata": {},
   "outputs": [
    {
     "data": {
      "text/plain": [
       "(array([1.1020202, 1.0111111, 0.9909091]), array([[ 0. ,  0.1, -0.1],\n",
       "        [ 0.1,  0. , -0.1],\n",
       "        [-0.1,  0.1,  0. ]]), array([1.1, 1. , 1. ]))"
      ]
     },
     "execution_count": 118,
     "metadata": {},
     "output_type": "execute_result"
    }
   ],
   "source": [
    "def solve(A, b, eps=1e-6):\n",
    "    B = np.zeros(A.shape)\n",
    "    q = np.zeros(b.shape)\n",
    "\n",
    "    for i in range(A.shape[0]):\n",
    "        B[i] = A[i]/A[i][i]\n",
    "        q[i] = b[i]/A[i][i]\n",
    "        B[i][i] = 0\n",
    "        \n",
    "    xl = np.ones(q.shape)\n",
    "    xk = np.zeros(q.shape)\n",
    "    \n",
    "    while np.linalg.norm(xk-xl) >= eps:\n",
    "        xl = xk.copy()\n",
    "        xk = B.dot(xl) + q\n",
    "    \n",
    "    return xk, B, q\n",
    "xk, B, q = solve(A, b)\n",
    "xk, B, q"
   ]
  },
  {
   "cell_type": "markdown",
   "metadata": {},
   "source": [
    " # №2\n",
    " ### Дана последовательность $x_k = Bx_{k-1} \\ (*) $ \n",
    " a) При каких условиях последовательность сходится?\n",
    " \n",
    " Рассмотрим уравнения $\\hat x_=B\\hat x$ и $x_k = Bx_{k-1}$. Далее $\\lVert \\hat x - x_k \\lVert = \\lVert B(\\hat x - x_{k-1}) \\lVert \\leq \\lVert B^k \\lVert \\lVert \\hat x - x_0 \\lVert$, откуда сходимость будет следовать при норме матрицы $B$ меньше 1.\n",
    " \n",
    " б) Привести пример матрицы $B$, когда  все компоненты предела $x_k$ равны.\n",
    " \n",
    " Рассмотрим уравнение $$\\hat x=B\\hat x$$. Далее, можно непосредственным перемножением получить уравнение для каждой из компонент в виде $\\hat x^{(i)} = \\sum_{j=0}^{n}B_{ij}*\\hat x^{(j)}$. Поскольку все компоненты равны, то можно переписать это в виде: $\\hat x = (\\sum_{j=0}^{n}B_{ij})* \\hat x$, из чего следует, что $\\sum_{j=0}^{n}B_{ij} = 1$, либо решение тривиально. Рассмотрим матричную норму $\\lVert B \\lVert_\\inf = \\max_{i=0..n} \\sum_{j=0}^{n} |b_{ij}|$. По свойствам модуля сумма модулей больше модуля суммы, что значит сумма $\\sum_{j=0}^{n}|B_{ij}| \\geq 1$, что влечет за собой $\\lVert B \\lVert_\\inf \\geq 1$. По свойству эквивалентности норм в конечномерных пространствах данное неравенство будет верным для всех норм, а значит нет такой матрицы, для которой итерационная последовательность будет сходиться при данных условиях. Значит, есть только тривиальное решение x, для которого подойдет любая матрица B c нормой  $ < 1$."
   ]
  },
  {
   "cell_type": "code",
   "execution_count": 110,
   "metadata": {},
   "outputs": [
    {
     "data": {
      "text/plain": [
       "array([[0.  , 0.25, 0.25],\n",
       "       [0.25, 0.  , 0.25],\n",
       "       [0.25, 0.25, 0.  ]])"
      ]
     },
     "execution_count": 110,
     "metadata": {},
     "output_type": "execute_result"
    }
   ],
   "source": [
    "B = np.array([[0, 0.25, 0.25], [0.25, 0, 0.25], [0.25, 0.25, 0]])\n",
    "B"
   ]
  },
  {
   "cell_type": "code",
   "execution_count": 111,
   "metadata": {},
   "outputs": [
    {
     "data": {
      "text/plain": [
       "0.6123724356957945"
      ]
     },
     "execution_count": 111,
     "metadata": {},
     "output_type": "execute_result"
    }
   ],
   "source": [
    "np.linalg.norm(B)"
   ]
  },
  {
   "cell_type": "code",
   "execution_count": 112,
   "metadata": {},
   "outputs": [
    {
     "data": {
      "text/plain": [
       "array([4.54747351e-13, 4.54747351e-13, 4.54747351e-13])"
      ]
     },
     "execution_count": 112,
     "metadata": {},
     "output_type": "execute_result"
    }
   ],
   "source": [
    "xl = np.array([0, 1, 3])\n",
    "xk = np.array([0, 1, 2])\n",
    "\n",
    "while np.linalg.norm(xk-xl) >= 1e-12:\n",
    "    xl = xk.copy()\n",
    "    xk = B.dot(xl)\n",
    "xk"
   ]
  },
  {
   "cell_type": "markdown",
   "metadata": {},
   "source": [
    "# №3\n",
    "\n"
   ]
  },
  {
   "cell_type": "code",
   "execution_count": 135,
   "metadata": {},
   "outputs": [
    {
     "data": {
      "text/plain": [
       "[28156,\n",
       " 27815,\n",
       " 19658,\n",
       " 33948,\n",
       " 30986,\n",
       " 21332,\n",
       " 25541,\n",
       " 29198,\n",
       " 16433,\n",
       " 29542,\n",
       " 19460,\n",
       " 14891,\n",
       " 24120,\n",
       " 28558,\n",
       " 23552,\n",
       " 21347]"
      ]
     },
     "execution_count": 135,
     "metadata": {},
     "output_type": "execute_result"
    }
   ],
   "source": [
    "from concurrent.futures import ThreadPoolExecutor\n",
    "\n",
    "def dot(vec1, vec2):\n",
    "    return sum(map(lambda x: x[0]*x[1], zip(vec1, vec2)))\n",
    "\n",
    "def matrix_vector_mult(matrix, vector):\n",
    "    assert len(matrix[0]) == len(vector)\n",
    "    executor = ThreadPoolExecutor()\n",
    "    result = executor.map(lambda v: dot(v, vector), matrix)\n",
    "    return list(result)\n",
    "\n",
    "matrix = [[np.random.randint(100) for i in range(10)] for i in range(16)]\n",
    "vector = [np.random.randint(100) for i in range(10)]\n",
    "\n",
    "matrix_vector_mult(matrix, vector)"
   ]
  },
  {
   "cell_type": "code",
   "execution_count": 136,
   "metadata": {},
   "outputs": [
    {
     "data": {
      "text/plain": [
       "array([28156, 27815, 19658, 33948, 30986, 21332, 25541, 29198, 16433,\n",
       "       29542, 19460, 14891, 24120, 28558, 23552, 21347])"
      ]
     },
     "execution_count": 136,
     "metadata": {},
     "output_type": "execute_result"
    }
   ],
   "source": [
    "np.dot(matrix, vector) # проверка"
   ]
  },
  {
   "cell_type": "code",
   "execution_count": null,
   "metadata": {},
   "outputs": [],
   "source": []
  }
 ],
 "metadata": {
  "kernelspec": {
   "display_name": "Python 3",
   "language": "python",
   "name": "python3"
  },
  "language_info": {
   "codemirror_mode": {
    "name": "ipython",
    "version": 3
   },
   "file_extension": ".py",
   "mimetype": "text/x-python",
   "name": "python",
   "nbconvert_exporter": "python",
   "pygments_lexer": "ipython3",
   "version": "3.7.3"
  }
 },
 "nbformat": 4,
 "nbformat_minor": 2
}
